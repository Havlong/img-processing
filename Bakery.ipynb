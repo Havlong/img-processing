{
 "cells": [
  {
   "cell_type": "code",
   "execution_count": 1,
   "id": "d4d01a3c-2ce0-4746-adbf-643a7765913f",
   "metadata": {},
   "outputs": [],
   "source": [
    "import cv2 as cv\n",
    "import numpy as np\n",
    "\n",
    "# Acquire animation as video source\n",
    "source = cv.VideoCapture('images/baker.gif')"
   ]
  },
  {
   "cell_type": "code",
   "execution_count": 2,
   "id": "ede395b2-2b9b-4c23-a224-8b43d4f04ced",
   "metadata": {},
   "outputs": [],
   "source": [
    "# Hyperparameter... You need to find out how much iterations were done on initial image\n",
    "revert_iterations = 4"
   ]
  },
  {
   "cell_type": "code",
   "execution_count": 3,
   "id": "65271cc6-c815-41c9-8acd-917f44d8a68e",
   "metadata": {},
   "outputs": [],
   "source": [
    "# Get first frame\n",
    "is_image, image = source.read()\n",
    "idx = 0\n",
    "\n",
    "# While there was a frame\n",
    "while is_image:\n",
    "    idx += 1\n",
    "    dims = image.shape\n",
    "    \n",
    "    # We are trying to not hurt pixels as long as possible\n",
    "    for _ in range(revert_iterations):\n",
    "        # In case of non-divisivility, truncate image\n",
    "        if image.shape[0] % 2 != 0: image = image[:-1, ...]\n",
    "\n",
    "        # Now safely divisible\n",
    "        l, r = np.split(image, 2, axis=0)\n",
    "        # And join at other side\n",
    "        image = np.concatenate((r, l), axis=1)\n",
    "\n",
    "    # Now image is too big, squash it to some adequate dimension\n",
    "    image = cv.resize(image, dims[-2::-1])\n",
    "\n",
    "    # Save once per ten frames\n",
    "    cv.imwrite(f'images/frames/{idx}.png', image)\n",
    "\n",
    "    # Get next frame\n",
    "    is_image, image = source.read()\n",
    "source.release()"
   ]
  },
  {
   "cell_type": "markdown",
   "id": "547e7847-b9dd-433b-aa77-ee678787e1bc",
   "metadata": {},
   "source": [
    "`tt_cooking_chaos_not_even_once`\n",
    "\n",
    "Next code cell uses FFmpeg to merge frames into new gif"
   ]
  },
  {
   "cell_type": "code",
   "execution_count": 4,
   "id": "9840555a-4568-4f8d-8c5c-6f43f10fb0cd",
   "metadata": {},
   "outputs": [
    {
     "name": "stdout",
     "output_type": "stream",
     "text": [
      "ffmpeg version 4.4.2-0ubuntu0.22.04.1 Copyright (c) 2000-2021 the FFmpeg developers\n",
      "  built with gcc 11 (Ubuntu 11.2.0-19ubuntu1)\n",
      "  configuration: --prefix=/usr --extra-version=0ubuntu0.22.04.1 --toolchain=hardened --libdir=/usr/lib/x86_64-linux-gnu --incdir=/usr/include/x86_64-linux-gnu --arch=amd64 --enable-gpl --disable-stripping --enable-gnutls --enable-ladspa --enable-libaom --enable-libass --enable-libbluray --enable-libbs2b --enable-libcaca --enable-libcdio --enable-libcodec2 --enable-libdav1d --enable-libflite --enable-libfontconfig --enable-libfreetype --enable-libfribidi --enable-libgme --enable-libgsm --enable-libjack --enable-libmp3lame --enable-libmysofa --enable-libopenjpeg --enable-libopenmpt --enable-libopus --enable-libpulse --enable-librabbitmq --enable-librubberband --enable-libshine --enable-libsnappy --enable-libsoxr --enable-libspeex --enable-libsrt --enable-libssh --enable-libtheora --enable-libtwolame --enable-libvidstab --enable-libvorbis --enable-libvpx --enable-libwebp --enable-libx265 --enable-libxml2 --enable-libxvid --enable-libzimg --enable-libzmq --enable-libzvbi --enable-lv2 --enable-omx --enable-openal --enable-opencl --enable-opengl --enable-sdl2 --enable-pocketsphinx --enable-librsvg --enable-libmfx --enable-libdc1394 --enable-libdrm --enable-libiec61883 --enable-chromaprint --enable-frei0r --enable-libx264 --enable-shared\n",
      "  libavutil      56. 70.100 / 56. 70.100\n",
      "  libavcodec     58.134.100 / 58.134.100\n",
      "  libavformat    58. 76.100 / 58. 76.100\n",
      "  libavdevice    58. 13.100 / 58. 13.100\n",
      "  libavfilter     7.110.100 /  7.110.100\n",
      "  libswscale      5.  9.100 /  5.  9.100\n",
      "  libswresample   3.  9.100 /  3.  9.100\n",
      "  libpostproc    55.  9.100 / 55.  9.100\n",
      "Input #0, image2, from 'images/frames/%d.png':\n",
      "  Duration: 00:00:04.44, start: 0.000000, bitrate: N/A\n",
      "  Stream #0:0: Video: png, rgb24(pc), 640x478, 25 fps, 25 tbr, 25 tbn, 25 tbc\n",
      "Stream mapping:\n",
      "  Stream #0:0 -> #0:0 (png (native) -> gif (native))\n",
      "Press [q] to stop, [?] for help\n",
      "Output #0, gif, to 'images/maker.gif':\n",
      "  Metadata:\n",
      "    encoder         : Lavf58.76.100\n",
      "  Stream #0:0: Video: gif, bgr8(pc, gbr/unknown/unknown, progressive), 640x478, q=2-31, 200 kb/s, 25 fps, 100 tbn\n",
      "    Metadata:\n",
      "      encoder         : Lavc58.134.100 gif\n",
      "frame=  111 fps=0.0 q=-0.0 Lsize=   15475kB time=00:00:04.41 bitrate=28746.5kbits/s speed=4.99x    \n",
      "video:15475kB audio:0kB subtitle:0kB other streams:0kB global headers:0kB muxing overhead: 0.000126%\n"
     ]
    }
   ],
   "source": [
    "images_pattern = 'images/frames/%d.png' # %d is default, glob format is available\n",
    "output_file = 'images/maker.gif'\n",
    "\n",
    "!ffmpeg -y -i $images_pattern $output_file"
   ]
  }
 ],
 "metadata": {
  "kernelspec": {
   "display_name": "Python 3 (ipykernel)",
   "language": "python",
   "name": "python3"
  },
  "language_info": {
   "codemirror_mode": {
    "name": "ipython",
    "version": 3
   },
   "file_extension": ".py",
   "mimetype": "text/x-python",
   "name": "python",
   "nbconvert_exporter": "python",
   "pygments_lexer": "ipython3",
   "version": "3.11.0rc1"
  }
 },
 "nbformat": 4,
 "nbformat_minor": 5
}
