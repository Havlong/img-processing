{
 "cells": [
  {
   "cell_type": "markdown",
   "id": "65feb35e-c921-419a-a3ba-44535ac08ee4",
   "metadata": {},
   "source": [
    "# Лабораторная работа 1\n",
    "> Выполнена студентом: **Гришин Е.В. 22ВВИм2**\n",
    "\n",
    "**Тема:** Введение в цифровую обработку изображений\n",
    "Цель лабораторной работы: получить навыки работы с линейной алгеброй и базовыми операциями с изображениями в Python.\n",
    "\n",
    "**Задание:** Вычислить математическое выражение, не используя дополнительных переменных\n",
    "```\n",
    "(A + B) * (-A / 2)\n",
    "```"
   ]
  },
  {
   "cell_type": "markdown",
   "id": "e4be0b54-7ef4-4faa-b47e-0019330fdfa1",
   "metadata": {},
   "source": [
    "## Импорт зависимостей"
   ]
  },
  {
   "cell_type": "code",
   "execution_count": 1,
   "id": "dafc5f0d-a358-41a5-880f-953031d6be55",
   "metadata": {},
   "outputs": [],
   "source": [
    "import numpy as np"
   ]
  },
  {
   "cell_type": "markdown",
   "id": "1d91cd54",
   "metadata": {},
   "source": [
    "## Вычисление выражения"
   ]
  },
  {
   "cell_type": "code",
   "execution_count": 2,
   "id": "ccaedbc5",
   "metadata": {},
   "outputs": [
    {
     "data": {
      "text/plain": [
       "-4.5"
      ]
     },
     "execution_count": 2,
     "metadata": {},
     "output_type": "execute_result"
    }
   ],
   "source": [
    "A = np.ones(3) * 1\n",
    "B = np.ones(3) * 2\n",
    "\n",
    "result = np.matmul(np.add(A, B), np.divide(A, -2))\n",
    "result"
   ]
  },
  {
   "cell_type": "markdown",
   "id": "ad163937-5766-46d9-b345-779118f41ed4",
   "metadata": {},
   "source": [
    "## Вывод:\n",
    "Изучены методы работа с библиотекой numpy\n",
    "В работораторной работе были использованы методы:\n",
    "- `ones` для создания матриц\n",
    "- `add` для сложения матриц\n",
    "- `divide` для деления на скаляр\n",
    "- `matmul` для матричного умножения"
   ]
  }
 ],
 "metadata": {
  "kernelspec": {
   "display_name": "Python 3 (ipykernel)",
   "language": "python",
   "name": "python3"
  },
  "language_info": {
   "codemirror_mode": {
    "name": "ipython",
    "version": 3
   },
   "file_extension": ".py",
   "mimetype": "text/x-python",
   "name": "python",
   "nbconvert_exporter": "python",
   "pygments_lexer": "ipython3",
   "version": "3.11.0rc1"
  }
 },
 "nbformat": 4,
 "nbformat_minor": 5
}
